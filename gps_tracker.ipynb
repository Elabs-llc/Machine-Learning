{
 "cells": [
  {
   "cell_type": "markdown",
   "id": "f8dd7a88",
   "metadata": {},
   "source": [
    "# GPS Tracker V1.0"
   ]
  },
  {
   "cell_type": "markdown",
   "id": "9f8ba7b1",
   "metadata": {},
   "source": [
    "### The Trusted Source For IP Address Data\n",
    "Accurate IP address data that keeps pace with secure, specific, and forward-looking use cases."
   ]
  },
  {
   "cell_type": "markdown",
   "id": "abc27cfe",
   "metadata": {},
   "source": [
    "##### How to run this code\n",
    "To run this code:\n",
    "<li>pip install requests\n"
   ]
  },
  {
   "cell_type": "markdown",
   "id": "d1b5e6f7",
   "metadata": {},
   "source": [
    "##### Devolper\n",
    "<a>Edwin Asare, CEO Elabs LLC </a>"
   ]
  },
  {
   "cell_type": "markdown",
   "id": "c0de40fa",
   "metadata": {},
   "source": [
    "#### Import requests module"
   ]
  },
  {
   "cell_type": "code",
   "execution_count": 1,
   "id": "afeab0c9-e501-4881-9bca-1e696499d6ea",
   "metadata": {},
   "outputs": [],
   "source": [
    "# importing modules\n",
    "import requests as req"
   ]
  },
  {
   "cell_type": "markdown",
   "id": "ed1f0864",
   "metadata": {},
   "source": [
    "#### Creating ASCI ARTS"
   ]
  },
  {
   "cell_type": "code",
   "execution_count": 2,
   "id": "8d8fa33c",
   "metadata": {},
   "outputs": [
    {
     "name": "stderr",
     "output_type": "stream",
     "text": [
      "<>:1: SyntaxWarning: invalid escape sequence '\\ '\n",
      "<>:9: SyntaxWarning: invalid escape sequence '\\/'\n",
      "<>:1: SyntaxWarning: invalid escape sequence '\\ '\n",
      "<>:9: SyntaxWarning: invalid escape sequence '\\/'\n",
      "C:\\Users\\User\\AppData\\Local\\Temp\\ipykernel_5900\\2178502269.py:1: SyntaxWarning: invalid escape sequence '\\ '\n",
      "  art1 = \"\"\"\n",
      "C:\\Users\\User\\AppData\\Local\\Temp\\ipykernel_5900\\2178502269.py:9: SyntaxWarning: invalid escape sequence '\\/'\n",
      "  art2 = \"\"\"\n"
     ]
    }
   ],
   "source": [
    "art1 = \"\"\"\n",
    " _   _         ___       _                       _                                     _   _             \n",
    "| \\ | | ___   |_ _|_ __ | |_ ___ _ __ _ __   ___| |_    ___ ___  _ __  _ __   ___  ___| |_(_) ___  _ __  \n",
    "|  \\| |/ _ \\   | || '_ \\| __/ _ \\ '__| '_ \\ / _ \\ __|  / __/ _ \\| '_ \\| '_ \\ / _ \\/ __| __| |/ _ \\| '_ \\ \n",
    "| |\\  | (_) |  | || | | | ||  __/ |  | | | |  __/ |_  | (_| (_) | | | | | | |  __/ (__| |_| | (_) | | | |\n",
    "|_| \\_|\\___/  |___|_| |_|\\__\\___|_|  |_| |_|\\___|\\__|  \\___\\___/|_| |_|_| |_|\\___|\\___|\\__|_|\\___/|_| |_|\n",
    "\"\"\"\n",
    "\n",
    "art2 = \"\"\"\n",
    ".·:''''''''''''''''''''''''''''''''''''''''''''''''''''''''':·.\n",
    ": :   ____ ____  ____    _____               _              : :\n",
    ": :  / ___|  _ \\/ ___|  |_   _| __ __ _  ___| | _____ _ __  : :\n",
    ": : | |  _| |_) \\___ \\    | || '__/ _` |/ __| |/ / _ \\ '__| : :\n",
    ": : | |_| |  __/ ___) |   | || | | (_| | (__|   <  __/ |    : :\n",
    ": :  \\____|_|   |____/    |_||_|  \\__,_|\\___|_|\\_\\___|_|    : :\n",
    "'·:.........................................................:·'\n",
    "\"\"\""
   ]
  },
  {
   "cell_type": "markdown",
   "id": "53f140b4",
   "metadata": {},
   "source": [
    "#### GET IP INFO"
   ]
  },
  {
   "cell_type": "code",
   "execution_count": 3,
   "id": "e1e67bd1-5508-4025-a8d1-8c44e50bdd12",
   "metadata": {},
   "outputs": [],
   "source": [
    "# get ip and return using original coordiates\n",
    "def locCoordinate():\n",
    "    try:\n",
    "        response = req.get(url='https://ipinfo.io')\n",
    "        data = response.json()\n",
    "        loc = data['loc'].split(',')\n",
    "        lat = float(loc[0]) \n",
    "        long = float(loc[1])\n",
    "        ip = data.get('ip', 'unkown')\n",
    "        city = data.get('city', 'Unknown')\n",
    "        state = data.get('region', 'Unknown')\n",
    "        country = data.get('country', 'Unknown')\n",
    "        organization = data.get('org', 'unkown')\n",
    "        hostname = data.get('hostname', 'unkown')\n",
    "        # print(data)\n",
    "        return lat, long, ip, city, state,country, organization, hostname\n",
    "    except:\n",
    "        print(art1)"
   ]
  },
  {
   "cell_type": "code",
   "execution_count": 4,
   "id": "dcd80bc8",
   "metadata": {},
   "outputs": [],
   "source": [
    "def header():\n",
    "    print(art2)"
   ]
  },
  {
   "cell_type": "markdown",
   "id": "98a564ee",
   "metadata": {},
   "source": [
    "#### Output "
   ]
  },
  {
   "cell_type": "code",
   "execution_count": 5,
   "id": "1e281fed",
   "metadata": {},
   "outputs": [
    {
     "name": "stdout",
     "output_type": "stream",
     "text": [
      "\n",
      " _   _         ___       _                       _                                     _   _             \n",
      "| \\ | | ___   |_ _|_ __ | |_ ___ _ __ _ __   ___| |_    ___ ___  _ __  _ __   ___  ___| |_(_) ___  _ __  \n",
      "|  \\| |/ _ \\   | || '_ \\| __/ _ \\ '__| '_ \\ / _ \\ __|  / __/ _ \\| '_ \\| '_ \\ / _ \\/ __| __| |/ _ \\| '_ \\ \n",
      "| |\\  | (_) |  | || | | | ||  __/ |  | | | |  __/ |_  | (_| (_) | | | | | | |  __/ (__| |_| | (_) | | | |\n",
      "|_| \\_|\\___/  |___|_| |_|\\__\\___|_|  |_| |_|\\___|\\__|  \\___\\___/|_| |_|_| |_|\\___|\\___|\\__|_|\\___/|_| |_|\n",
      "\n",
      "\n",
      ".·:''''''''''''''''''''''''''''''''''''''''''''''''''''''''':·.\n",
      ": :   ____ ____  ____    _____               _              : :\n",
      ": :  / ___|  _ \\/ ___|  |_   _| __ __ _  ___| | _____ _ __  : :\n",
      ": : | |  _| |_) \\___ \\    | || '__/ _` |/ __| |/ / _ \\ '__| : :\n",
      ": : | |_| |  __/ ___) |   | || | | (_| | (__|   <  __/ |    : :\n",
      ": :  \\____|_|   |____/    |_||_|  \\__,_|\\___|_|\\_\\___|_|    : :\n",
      "'·:.........................................................:·'\n",
      "\n"
     ]
    },
    {
     "ename": "TypeError",
     "evalue": "'NoneType' object is not subscriptable",
     "output_type": "error",
     "traceback": [
      "\u001b[1;31m---------------------------------------------------------------------------\u001b[0m",
      "\u001b[1;31mTypeError\u001b[0m                                 Traceback (most recent call last)",
      "Cell \u001b[1;32mIn[5], line 6\u001b[0m\n\u001b[0;32m      4\u001b[0m \u001b[38;5;66;03m# Display GPS Data\u001b[39;00m\n\u001b[0;32m      5\u001b[0m header()\n\u001b[1;32m----> 6\u001b[0m \u001b[38;5;28mprint\u001b[39m(\u001b[38;5;124mf\u001b[39m\u001b[38;5;124m'\u001b[39m\u001b[38;5;124mIP Address: \u001b[39m\u001b[38;5;132;01m{\u001b[39;00m\u001b[43mloc\u001b[49m\u001b[43m[\u001b[49m\u001b[38;5;241;43m2\u001b[39;49m\u001b[43m]\u001b[49m\u001b[38;5;132;01m}\u001b[39;00m\u001b[38;5;124m'\u001b[39m)\n\u001b[0;32m      7\u001b[0m \u001b[38;5;28mprint\u001b[39m(\u001b[38;5;124m\"\u001b[39m\u001b[38;5;124mCountry: \u001b[39m\u001b[38;5;132;01m{}\u001b[39;00m\u001b[38;5;124m \u001b[39m\u001b[38;5;124m\"\u001b[39m\u001b[38;5;241m.\u001b[39mformat(loc[\u001b[38;5;241m5\u001b[39m]))\n\u001b[0;32m      8\u001b[0m \u001b[38;5;28mprint\u001b[39m(\u001b[38;5;124m\"\u001b[39m\u001b[38;5;124mRegion: \u001b[39m\u001b[38;5;132;01m{}\u001b[39;00m\u001b[38;5;124m \u001b[39m\u001b[38;5;124m\"\u001b[39m\u001b[38;5;241m.\u001b[39mformat(loc[\u001b[38;5;241m4\u001b[39m]))\n",
      "\u001b[1;31mTypeError\u001b[0m: 'NoneType' object is not subscriptable"
     ]
    }
   ],
   "source": [
    "# Get GPS Data and store\n",
    "loc = locCoordinate()\n",
    "\n",
    "# Display GPS Data\n",
    "header()\n",
    "print(f'IP Address: {loc[2]}')\n",
    "print(\"Country: {} \".format(loc[5]))\n",
    "print(\"Region: {} \".format(loc[4]))\n",
    "print(\"City: {} \".format(loc[3]))\n",
    "print(\"Organization: {} \".format(loc[6]))\n",
    "print(\"Hostname: {} \".format(loc[7]))\n"
   ]
  },
  {
   "cell_type": "code",
   "execution_count": null,
   "id": "1b7e25ea",
   "metadata": {},
   "outputs": [],
   "source": []
  }
 ],
 "metadata": {
  "kernelspec": {
   "display_name": "Python 3 (ipykernel)",
   "language": "python",
   "name": "python3"
  },
  "language_info": {
   "codemirror_mode": {
    "name": "ipython",
    "version": 3
   },
   "file_extension": ".py",
   "mimetype": "text/x-python",
   "name": "python",
   "nbconvert_exporter": "python",
   "pygments_lexer": "ipython3",
   "version": "3.12.3"
  }
 },
 "nbformat": 4,
 "nbformat_minor": 5
}
